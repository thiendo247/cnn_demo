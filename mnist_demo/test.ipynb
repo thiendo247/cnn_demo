{
 "cells": [
  {
   "cell_type": "code",
   "execution_count": 1,
   "id": "e49871b6",
   "metadata": {},
   "outputs": [],
   "source": [
    "# import thu vien\n",
    "import numpy as np\n",
    "import matplotlib.pyplot as plt\n",
    "from keras.models import Sequential\n",
    "from keras.layers import Dense, Dropout, Activation, Flatten\n",
    "from keras.layers import Conv2D, MaxPooling2D\n",
    "from keras.utils import np_utils\n",
    "from keras.datasets import mnist"
   ]
  },
  {
   "cell_type": "code",
   "execution_count": 2,
   "id": "2729ec3c",
   "metadata": {},
   "outputs": [
    {
     "name": "stdout",
     "output_type": "stream",
     "text": [
      "(50000, 28, 28)\n"
     ]
    }
   ],
   "source": [
    "# Load data MNIST\n",
    "(X_train, y_train), (X_test, y_test) = mnist.load_data()\n",
    "X_val, y_val = X_train[50000:60000,:], y_train[50000:60000]\n",
    "X_train, y_train = X_train[:50000,:], y_train[:50000]\n",
    "print(X_train.shape)"
   ]
  },
  {
   "cell_type": "code",
   "execution_count": 3,
   "id": "76021abb",
   "metadata": {},
   "outputs": [],
   "source": [
    "# reshape lai du lieu cho dung kich thuoc\n",
    "X_train = X_train.reshape(X_train.shape[0], 28, 28, 1)\n",
    "X_val = X_val.reshape(X_val.shape[0], 28, 28, 1)\n",
    "X_test = X_test.reshape(X_test.shape[0], 28, 28, 1)"
   ]
  },
  {
   "cell_type": "code",
   "execution_count": 4,
   "id": "33fd67fe",
   "metadata": {},
   "outputs": [
    {
     "name": "stdout",
     "output_type": "stream",
     "text": [
      "Dữ liệu y ban đầu  5\n",
      "Dữ liệu y sau one-hot encoding  [0. 0. 0. 0. 0. 1. 0. 0. 0. 0.]\n"
     ]
    }
   ],
   "source": [
    "# one-hot encoding: chuyen doi label Y -> vector\n",
    "Y_train = np_utils.to_categorical(y_train, 10)\n",
    "Y_val = np_utils.to_categorical(y_val, 10)\n",
    "Y_test = np_utils.to_categorical(y_test, 10)\n",
    "print('Dữ liệu y ban đầu ', y_train[0])\n",
    "print('Dữ liệu y sau one-hot encoding ',Y_train[0])"
   ]
  },
  {
   "cell_type": "code",
   "execution_count": 5,
   "id": "b8ee8870",
   "metadata": {},
   "outputs": [],
   "source": [
    "# Dinh nghia model\n",
    "model = Sequential()\n",
    "model.add(Conv2D(32, (3, 3), activation='sigmoid', input_shape=(28,28,1)))\n",
    "model.add(Conv2D(32, (3, 3), activation='sigmoid'))\n",
    "model.add(MaxPooling2D(pool_size=(2,2)))\n",
    "# chuyen tensor->vector\n",
    "model.add(Flatten())\n",
    "# fully connected\n",
    "model.add(Dense(128, activation='sigmoid'))\n",
    "# output layer\n",
    "model.add(Dense(10, activation='softmax'))"
   ]
  },
  {
   "cell_type": "code",
   "execution_count": 6,
   "id": "6e73bde6",
   "metadata": {},
   "outputs": [],
   "source": [
    "# compile model -> toi uu ham loss\n",
    "model.compile(loss='categorical_crossentropy',\n",
    "              optimizer='adam',\n",
    "              metrics=['accuracy'])"
   ]
  },
  {
   "cell_type": "code",
   "execution_count": 14,
   "id": "bd44043d",
   "metadata": {
    "scrolled": true
   },
   "outputs": [
    {
     "name": "stdout",
     "output_type": "stream",
     "text": [
      "Epoch 1/10\n",
      "1563/1563 [==============================] - 83s 53ms/step - loss: 0.0019 - accuracy: 0.9997 - val_loss: 0.0462 - val_accuracy: 0.9890\n",
      "Epoch 2/10\n",
      "1563/1563 [==============================] - 82s 53ms/step - loss: 0.0027 - accuracy: 0.9994 - val_loss: 0.0493 - val_accuracy: 0.9889\n",
      "Epoch 3/10\n",
      "1563/1563 [==============================] - 80s 51ms/step - loss: 0.0015 - accuracy: 0.9998 - val_loss: 0.0439 - val_accuracy: 0.9896\n",
      "Epoch 4/10\n",
      "1563/1563 [==============================] - 80s 51ms/step - loss: 0.0022 - accuracy: 0.9994 - val_loss: 0.0498 - val_accuracy: 0.9896\n",
      "Epoch 5/10\n",
      "1563/1563 [==============================] - 80s 51ms/step - loss: 3.4551e-04 - accuracy: 1.0000 - val_loss: 0.0495 - val_accuracy: 0.9894\n",
      "Epoch 6/10\n",
      "1563/1563 [==============================] - 81s 52ms/step - loss: 1.0699e-04 - accuracy: 1.0000 - val_loss: 0.0471 - val_accuracy: 0.9897\n",
      "Epoch 7/10\n",
      "1563/1563 [==============================] - 80s 51ms/step - loss: 5.3242e-05 - accuracy: 1.0000 - val_loss: 0.0472 - val_accuracy: 0.9900\n",
      "Epoch 8/10\n",
      "1563/1563 [==============================] - 81s 52ms/step - loss: 3.2756e-05 - accuracy: 1.0000 - val_loss: 0.0465 - val_accuracy: 0.9905\n",
      "Epoch 9/10\n",
      "1563/1563 [==============================] - 81s 52ms/step - loss: 2.0785e-05 - accuracy: 1.0000 - val_loss: 0.0506 - val_accuracy: 0.9898\n",
      "Epoch 10/10\n",
      "1563/1563 [==============================] - 82s 52ms/step - loss: 0.0058 - accuracy: 0.9982 - val_loss: 0.0532 - val_accuracy: 0.9895\n"
     ]
    }
   ],
   "source": [
    "# train model\n",
    "H= model.fit(X_train, Y_train, validation_data=(X_val, Y_val),\n",
    "          batch_size=32, epochs=10, verbose=1)"
   ]
  },
  {
   "cell_type": "code",
   "execution_count": 15,
   "id": "ca9e9f8c",
   "metadata": {},
   "outputs": [],
   "source": [
    "model.save_weights('model_mnist.h5')"
   ]
  },
  {
   "cell_type": "code",
   "execution_count": 28,
   "id": "6d8e7732",
   "metadata": {
    "scrolled": true
   },
   "outputs": [],
   "source": [
    "# Do thi Loss, Accuracy cua traning test & valdation test\n",
    "# fig = plt.figure()\n",
    "# numOfEpoch = 10\n",
    "# plt.plot(np.arange(0, numOfEpoch), H.history['loss'], label='training loss')\n",
    "# plt.plot(np.arange(0, numOfEpoch), H.history['val_loss'], label='validation loss')\n",
    "# plt.plot(np.arange(0, numOfEpoch), H.history['acc'], label='accuracy')\n",
    "# plt.plot(np.arange(0, numOfEpoch), H.history['val_acc'], label='validation accuracy')\n",
    "# plt.title('Accuracy and Loss')\n",
    "# plt.xlabel('Epoch')\n",
    "# plt.ylabel('Loss|Accuracy')\n",
    "# plt.legend()"
   ]
  },
  {
   "cell_type": "code",
   "execution_count": 18,
   "id": "a2d54385",
   "metadata": {},
   "outputs": [
    {
     "name": "stdout",
     "output_type": "stream",
     "text": [
      "[0.042004361748695374, 0.9898999929428101]\n"
     ]
    }
   ],
   "source": [
    "#  danh gia model\n",
    "score = model.evaluate(X_test, Y_test, verbose=0)\n",
    "print(score)"
   ]
  },
  {
   "cell_type": "code",
   "execution_count": 1,
   "id": "554cf0dc",
   "metadata": {
    "scrolled": true
   },
   "outputs": [
    {
     "ename": "NameError",
     "evalue": "name 'plt' is not defined",
     "output_type": "error",
     "traceback": [
      "\u001b[1;31m---------------------------------------------------------------------------\u001b[0m",
      "\u001b[1;31mNameError\u001b[0m                                 Traceback (most recent call last)",
      "Cell \u001b[1;32mIn [1], line 2\u001b[0m\n\u001b[0;32m      1\u001b[0m \u001b[39m# dự đoán ảnh\u001b[39;00m\n\u001b[1;32m----> 2\u001b[0m plt\u001b[39m.\u001b[39mimshow(X_test[\u001b[39m1000\u001b[39m]\u001b[39m.\u001b[39mreshape(\u001b[39m28\u001b[39m,\u001b[39m28\u001b[39m), cmap\u001b[39m=\u001b[39m\u001b[39m'\u001b[39m\u001b[39mgray\u001b[39m\u001b[39m'\u001b[39m)\n\u001b[0;32m      4\u001b[0m y_predict \u001b[39m=\u001b[39m model\u001b[39m.\u001b[39mpredict(X_test[\u001b[39m1000\u001b[39m]\u001b[39m.\u001b[39mreshape(\u001b[39m1\u001b[39m,\u001b[39m28\u001b[39m,\u001b[39m28\u001b[39m,\u001b[39m1\u001b[39m))\n\u001b[0;32m      5\u001b[0m \u001b[39mprint\u001b[39m(\u001b[39m'\u001b[39m\u001b[39mGiá trị dự đoán: \u001b[39m\u001b[39m'\u001b[39m, np\u001b[39m.\u001b[39margmax(y_predict))\n",
      "\u001b[1;31mNameError\u001b[0m: name 'plt' is not defined"
     ]
    }
   ],
   "source": [
    "# dự đoán ảnh\n",
    "plt.imshow(X_test[1000].reshape(28,28), cmap='gray')\n",
    "\n",
    "y_predict = model.predict(X_test[1000].reshape(1,28,28,1))\n",
    "print('Giá trị dự đoán: ', np.argmax(y_predict))"
   ]
  },
  {
   "cell_type": "code",
   "execution_count": null,
   "id": "c446b415",
   "metadata": {},
   "outputs": [],
   "source": []
  },
  {
   "cell_type": "code",
   "execution_count": null,
   "id": "4a3db3d9",
   "metadata": {},
   "outputs": [],
   "source": []
  }
 ],
 "metadata": {
  "kernelspec": {
   "display_name": "Python 3 (ipykernel)",
   "language": "python",
   "name": "python3"
  },
  "language_info": {
   "codemirror_mode": {
    "name": "ipython",
    "version": 3
   },
   "file_extension": ".py",
   "mimetype": "text/x-python",
   "name": "python",
   "nbconvert_exporter": "python",
   "pygments_lexer": "ipython3",
   "version": "3.10.6"
  },
  "vscode": {
   "interpreter": {
    "hash": "646448fc723af741a7c3cf0a2486da1210850f2216643655e29cec5a622f825b"
   }
  }
 },
 "nbformat": 4,
 "nbformat_minor": 5
}
